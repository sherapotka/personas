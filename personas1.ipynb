{
 "cells": [
  {
   "cell_type": "code",
   "execution_count": 11,
   "metadata": {},
   "outputs": [],
   "source": [
    "from openai import OpenAI\n",
    "\n",
    "# Set your OpenAI API key\n",
    "client = OpenAI(api_key=\"..................\")\n",
    "\n",
    "\n",
    "# MODEL_ID = 'gpt-4-1106-preview'\n",
    "# MODEL_ID = 'gpt-4'\n",
    "# MODEL_ID = 'gpt-3.5-turbo'\n",
    "MODEL_ID = 'gpt-3.5-turbo-1106'"
   ]
  },
  {
   "cell_type": "code",
   "execution_count": 12,
   "metadata": {},
   "outputs": [
    {
     "data": {
      "text/plain": [
       "'The meaning of life is a deeply philosophical and personal question that has been pondered by humans for centuries. Different people and cultures have different beliefs and interpretations of the meaning of life. Some believe that the meaning of life is to seek happiness and fulfillment, while others believe it is to fulfill a higher purpose or spiritual destiny. Ultimately, the meaning of life is a subjective and individual concept that each person must explore and define for themselves.'"
      ]
     },
     "execution_count": 12,
     "metadata": {},
     "output_type": "execute_result"
    }
   ],
   "source": [
    "def conversation_next(conversation: list, model_id: str):\n",
    "    try:\n",
    "        response = client.chat.completions.create(\n",
    "            model=model_id,\n",
    "            messages=conversation,\n",
    "            temperature = 0.0\n",
    "        )\n",
    "        conversation.append({\n",
    "            'role': response.choices[0].message.role,\n",
    "            'content': response.choices[0].message.content\n",
    "        })\n",
    "        return conversation\n",
    "\n",
    "    except Exception as e:\n",
    "        print(f\"Fell into exception: {e}\")\n",
    "        time.sleep(0.5)  # Pause execution for half a second\n",
    "        return conversation_next(conversation, model_id)\n",
    "    \n",
    "\n",
    "def answer(prompt: str):\n",
    "    conversation = []\n",
    "\n",
    "    conversation.append({\n",
    "        'role': 'user',\n",
    "        'content': prompt\n",
    "    })\n",
    "    conversation = conversation_next(conversation, MODEL_ID)\n",
    "\n",
    "    prediction = conversation[-1]['content']\n",
    "    return prediction\n",
    "\n",
    "# testing\n",
    "answer(\"What is the meaning of life?\")"
   ]
  },
  {
   "cell_type": "code",
   "execution_count": 14,
   "metadata": {},
   "outputs": [
    {
     "name": "stdout",
     "output_type": "stream",
     "text": [
      "Group: a young female engineer living in a big city\n",
      "Persona: She is a driven and ambitious young woman who is passionate about engineering and technology. She is highly intelligent and has a strong work ethic, constantly seeking to improve her skills and knowledge in her field. She is confident and assertive, unafraid to speak her mind and take on challenging projects.\n",
      "\n",
      "Living in a big city, she is always on the go, juggling her demanding job with a vibrant social life. She enjoys exploring the city's cultural and culinary offerings, and is always up for trying new experiences and meeting new people. Despite her busy schedule, she makes time for self-care and fitness, often hitting the gym or going for a run in the city's parks.\n",
      "\n",
      "She is independent and self-sufficient, thriving in the fast-paced environment of the city. She is also socially conscious and actively involved in initiatives that promote diversity and inclusion in the engineering industry. Overall, she is a dynamic and inspiring individual who is making her mark in the world of engineering while embracing the excitement and opportunities of city life.\n",
      "\n",
      "Group: an elderly male farmer living in the countryside\n",
      "Persona: The elderly male farmer is a weathered and rugged man, with deep lines etched into his face from years of working under the sun. His hands are calloused and strong, a testament to a lifetime of hard labor on the land. He walks with a slight stoop, a result of years spent tending to his crops and animals.\n",
      "\n",
      "His eyes are a piercing blue, filled with wisdom and a deep connection to the land he has worked for decades. He has a thick, bushy beard that is streaked with gray, and his hair is a wild tangle of silver strands that he rarely bothers to tame.\n",
      "\n",
      "He is often seen wearing worn denim overalls and a plaid shirt, with a well-worn straw hat perched on his head. His boots are caked with mud and dirt, a sign of his constant presence in the fields and barns.\n",
      "\n",
      "Despite his age, the farmer is still strong and capable, with a fierce determination to continue working the land that has been his life's work. He is a man of few words, but when he speaks, his words are filled with the wisdom of a lifetime spent in harmony with nature. He is a pillar of his community, respected and admired by all who know him for his hard work, integrity, and deep connection to the land.\n",
      "\n"
     ]
    }
   ],
   "source": [
    "def generate_personas_for_groups(groups, engine=\"text-davinci-004\", max_tokens=100):\n",
    "    personas = {}\n",
    "    for group in groups:\n",
    "        prompt = f\"Describe a person who is {group}.\"\n",
    "        response = answer(prompt)\n",
    "        personas[group] = response\n",
    "    return personas\n",
    "\n",
    "# Example demographic groups\n",
    "demographic_groups = [\n",
    "    \"a young female engineer living in a big city\",\n",
    "    \"an elderly male farmer living in the countryside\",\n",
    "    # Add more groups as needed\n",
    "]\n",
    "\n",
    "# Generate personas\n",
    "personas = generate_personas_for_groups(demographic_groups)\n",
    "for group, persona in personas.items():\n",
    "    print(f\"Group: {group}\\nPersona: {persona}\\n\")\n",
    "\n",
    "\n"
   ]
  }
 ],
 "metadata": {
  "kernelspec": {
   "display_name": "Python 3",
   "language": "python",
   "name": "python3"
  },
  "language_info": {
   "codemirror_mode": {
    "name": "ipython",
    "version": 3
   },
   "file_extension": ".py",
   "mimetype": "text/x-python",
   "name": "python",
   "nbconvert_exporter": "python",
   "pygments_lexer": "ipython3",
   "version": "3.9.13"
  }
 },
 "nbformat": 4,
 "nbformat_minor": 2
}
